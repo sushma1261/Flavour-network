{
 "cells": [
  {
   "cell_type": "code",
   "execution_count": null,
   "id": "3fa8cb40-e7a0-4cda-8540-7488a960150e",
   "metadata": {},
   "outputs": [
    {
     "name": "stdout",
     "output_type": "stream",
     "text": [
      "(5622, 236) [0, 266, 699, 976, 1167, 1588, 1929, 2049, 2407, 2566, 2852, 3016, 3214, 3625, 3853, 4040, 4133, 4280, 4372, 4556, 4740, 4757, 4935, 5137, 5421, 5622]\n"
     ]
    },
    {
     "name": "stderr",
     "output_type": "stream",
     "text": [
      "/var/folders/_m/w5ywmxlj4n957rz1czm0c9wh0000gn/T/ipykernel_14157/2471944456.py:35: UserWarning: *c* argument looks like a single numeric RGB or RGBA sequence, which should be avoided as value-mapping will have precedence in case its length matches with *x* & *y*.  Please use the *color* keyword-argument or provide a 2D array with a single row if you intend to specify the same RGB or RGBA value for all points.\n",
      "  plt.scatter(tsne[lenlist[i]:lenlist[i+1],0],\\\n"
     ]
    },
    {
     "name": "stdout",
     "output_type": "stream",
     "text": [
      "(3814, 1107) [0, 266, 686, 961, 1029, 1078, 1416, 1536, 1894, 1894, 2180, 2310, 2416, 2826, 2832, 3019, 3019, 3166, 3166, 3166, 3350, 3367, 3411, 3613, 3613, 3814]\n"
     ]
    }
   ],
   "source": [
    "'''After recipes have been mapped to ingredient space and flavor space\n",
    "Plot tsne clustering\n",
    "Plot with bokeh interactive plotting\n",
    "'''\n",
    "\n",
    "import numpy as np\n",
    "import pandas as pd\n",
    "import matplotlib.pyplot as plt\n",
    "%matplotlib inline\n",
    "import seaborn as sns\n",
    "from scipy.spatial.distance import pdist, squareform\n",
    "from sklearn.manifold import MDS, TSNE\n",
    "\n",
    "from bokeh.plotting import figure, output_file, show, ColumnDataSource\n",
    "from bokeh.models import HoverTool\n",
    "\n",
    "#take some regional cuisines, tsne clustering, and plotting\n",
    "def tsne_cluster_cuisine(df,sublist):\n",
    "    lenlist=[0]\n",
    "    df_sub = df[df['cuisine']==sublist[0]]\n",
    "    lenlist.append(df_sub.shape[0])\n",
    "    for cuisine in sublist[1:]:\n",
    "        temp = df[df['cuisine']==cuisine]\n",
    "        df_sub = pd.concat([df_sub, temp],axis=0,ignore_index=True)\n",
    "        lenlist.append(df_sub.shape[0])\n",
    "    df_X = df_sub.drop(['cuisine','recipeName'],axis=1)\n",
    "    print(df_X.shape, lenlist)\n",
    "\n",
    "    dist = squareform(pdist(df_X, metric='cosine'))\n",
    "    tsne = TSNE(metric='precomputed', init=\"random\").fit_transform(dist)\n",
    "\n",
    "    palette = sns.color_palette(\"hls\", len(sublist))\n",
    "    plt.figure(figsize=(10,10))\n",
    "    for i,cuisine in enumerate(sublist):\n",
    "        plt.scatter(tsne[lenlist[i]:lenlist[i+1],0],\\\n",
    "        tsne[lenlist[i]:lenlist[i+1],1],c=palette[i],label=sublist[i])\n",
    "    plt.legend()\n",
    "\n",
    "#interactive plot with boken; set up for four categories, with color palette; pass in df for either ingredient or flavor\n",
    "def plot_bokeh(df,sublist,filename):\n",
    "    lenlist=[0]\n",
    "    df_sub = df[df['cuisine']==sublist[0]]\n",
    "    lenlist.append(df_sub.shape[0])\n",
    "    for cuisine in sublist[1:]:\n",
    "        temp = df[df['cuisine']==cuisine]\n",
    "        df_sub = pd.concat([df_sub, temp],axis=0,ignore_index=True)\n",
    "        lenlist.append(df_sub.shape[0])\n",
    "    df_X = df_sub.drop(['cuisine','recipeName'],axis=1)\n",
    "    print(df_X.shape, lenlist)\n",
    "\n",
    "    dist = squareform(pdist(df_X, metric='cosine'))\n",
    "    tsne = TSNE(metric='precomputed', init=\"random\").fit_transform(dist)\n",
    "    #cannot use seaborn palette for bokeh\n",
    "    # palette =['red','green','blue','yellow']\n",
    "    # colors =[]\n",
    "    # for i in range(len(sublist)):\n",
    "    #     for j in range(lenlist[i+1]-lenlist[i]):\n",
    "    #         colors.append(palette[i])\n",
    "    #plot with boken\n",
    "    output_file(filename)\n",
    "    source = ColumnDataSource(\n",
    "            data=dict(x=tsne[:,0],y=tsne[:,1],\n",
    "                cuisine = df_sub['cuisine'],\n",
    "                recipe = df_sub['recipeName']))\n",
    "\n",
    "    hover = HoverTool(tooltips=[\n",
    "                (\"cuisine\", \"@cuisine\"),\n",
    "                (\"recipe\", \"@recipe\")])\n",
    "\n",
    "    p = figure(title=\"flavor clustering\")\n",
    "\n",
    "    p.circle('x', 'y', size=10, source=source)\n",
    "\n",
    "    show(p)\n",
    "\n",
    "\n",
    "if __name__ == '__main__':\n",
    "    yum_ingr = pd.read_pickle('data/yummly_ingr.pkl')\n",
    "    yum_ingrX = pd.read_pickle('data/yummly_ingrX.pkl')\n",
    "    yum_tfidf = pd.read_pickle('data/yum_tfidf.pkl')\n",
    "\n",
    "    #select four cuisines and plot tsne clustering with ingredients\n",
    "    \n",
    "    df_ingr = yum_ingrX.copy()\n",
    "    sublist = list(set(yum_ingr['cuisine']))\n",
    "    df_ingr['cuisine'] = yum_ingr['cuisine']\n",
    "    df_ingr['recipeName'] = yum_ingr['recipeName']\n",
    "    tsne_cluster_cuisine(df_ingr,sublist)\n",
    "\n",
    "    #select four cuisines and plot tsne clustering with flavor\n",
    "    df_flavor = yum_tfidf.copy()\n",
    "    sublist = list(set(yum_ingr['cuisine']))\n",
    "    df_flavor['cuisine'] = yum_ingr['cuisine']\n",
    "    df_flavor['recipeName'] = yum_ingr['recipeName']\n",
    "    tsne_cluster_cuisine(df_flavor,sublist)\n",
    "\n",
    "    #select four cuisines and do interactive plotting with bokeh\n",
    "    plot_bokeh(df_flavor,sublist, 'test1.html')\n",
    "    plot_bokeh(df_ingr,sublist, 'test2.html')\n"
   ]
  },
  {
   "cell_type": "code",
   "execution_count": 1,
   "id": "ceaff8e7-37cc-4f46-831a-326bc041600d",
   "metadata": {},
   "outputs": [],
   "source": [
    "import bokeh"
   ]
  },
  {
   "cell_type": "code",
   "execution_count": 2,
   "id": "0b965dfa-6809-45ae-8c21-bca108ff7139",
   "metadata": {},
   "outputs": [
    {
     "name": "stdout",
     "output_type": "stream",
     "text": [
      "3.0.3\n"
     ]
    }
   ],
   "source": [
    "print(bokeh.__version__)"
   ]
  },
  {
   "cell_type": "code",
   "execution_count": 22,
   "id": "e8e70a7e-61c5-4be7-8ee5-16b6aed8b3c9",
   "metadata": {},
   "outputs": [],
   "source": [
    "from sklearn.preprocessing import StandardScaler\n",
    "from sklearn.decomposition import PCA\n",
    "import pandas as pd\n",
    "import numpy as np\n",
    "import matplotlib.pyplot as plt\n",
    "%matplotlib inline"
   ]
  },
  {
   "cell_type": "code",
   "execution_count": 5,
   "id": "faa2f518-f2cc-4809-9737-7b396af7398f",
   "metadata": {},
   "outputs": [
    {
     "name": "stdout",
     "output_type": "stream",
     "text": [
      "Index(['almond', 'anise', 'apple', 'apricot', 'artichoke', 'asparagus',\n",
      "       'avocado', 'bacon', 'banana', 'barley',\n",
      "       ...\n",
      "       'whitefish', 'whole grain wheat flour', 'wine', 'wood', 'yam', 'yeast',\n",
      "       'yogurt', 'zucchini', 'cuisine', 'recipeName'],\n",
      "      dtype='object', length=238)\n"
     ]
    }
   ],
   "source": [
    "yum_ingr = pd.read_pickle('data/yummly_ingr.pkl')\n",
    "yum_ingrX = pd.read_pickle('data/yummly_ingrX.pkl')\n",
    "yum_tfidf = pd.read_pickle('data/yum_tfidf.pkl')\n",
    "\n",
    "#select four cuisines and plot tsne clustering with ingredients\n",
    "\n",
    "df_ingr = yum_ingrX.copy()\n",
    "# sublist = list(set(yum_ingr['cuisine']))\n",
    "df_ingr['cuisine'] = yum_ingr['cuisine']\n",
    "df_ingr['recipeName'] = yum_ingr['recipeName']\n",
    "\n",
    "print(df_ingr.keys())"
   ]
  },
  {
   "cell_type": "code",
   "execution_count": 6,
   "id": "5e8ad33c-1cbe-4817-8391-0c06d6300280",
   "metadata": {},
   "outputs": [],
   "source": [
    "df = pd.DataFrame(df_ingr)"
   ]
  },
  {
   "cell_type": "code",
   "execution_count": 7,
   "id": "15a7b0ed-836c-4882-b00c-e1c89e52d49f",
   "metadata": {},
   "outputs": [],
   "source": [
    "df_dropped = df.drop(columns=['cuisine', 'recipeName'])\n",
    "df_dropped_encoded = pd.get_dummies(df_dropped, columns=df_dropped.columns, drop_first=True)"
   ]
  },
  {
   "cell_type": "code",
   "execution_count": 8,
   "id": "f47f8730-78a1-4def-9a64-6cc1c8935811",
   "metadata": {},
   "outputs": [
    {
     "ename": "NameError",
     "evalue": "name 'X_encoded' is not defined",
     "output_type": "error",
     "traceback": [
      "\u001b[0;31m---------------------------------------------------------------------------\u001b[0m",
      "\u001b[0;31mNameError\u001b[0m                                 Traceback (most recent call last)",
      "Cell \u001b[0;32mIn[8], line 1\u001b[0m\n\u001b[0;32m----> 1\u001b[0m \u001b[38;5;28mprint\u001b[39m(\u001b[43mX_encoded\u001b[49m)\n",
      "\u001b[0;31mNameError\u001b[0m: name 'X_encoded' is not defined"
     ]
    }
   ],
   "source": []
  },
  {
   "cell_type": "code",
   "execution_count": 15,
   "id": "47644408-8cef-40d5-9da5-18839fc7e0ee",
   "metadata": {},
   "outputs": [
    {
     "name": "stdout",
     "output_type": "stream",
     "text": [
      "      Principal Component 1  Principal Component 2\n",
      "0                 -2.490783              -1.011633\n",
      "1                 -0.690057              -0.474103\n",
      "2                 -0.902687              -0.698736\n",
      "3                 -1.485827              -1.202679\n",
      "4                 -1.452261              -1.412869\n",
      "...                     ...                    ...\n",
      "5617               4.578969              -1.806938\n",
      "5618               9.090491              -0.840867\n",
      "5619               2.618344              -0.254918\n",
      "5620               6.718070              -3.377124\n",
      "5621               4.137933              -1.115565\n",
      "\n",
      "[5622 rows x 2 columns]\n"
     ]
    }
   ],
   "source": [
    "# Standardize the data\n",
    "scaler = StandardScaler()\n",
    "X_scaled = scaler.fit_transform(df_dropped_encoded)\n",
    "\n",
    "# Perform PCA\n",
    "pca = PCA(n_components=2)  # Specify the number of components you want\n",
    "X_pca = pca.fit_transform(X_scaled)\n",
    "\n",
    "# Convert the PCA output back to a DataFrame for easier handling\n",
    "pca_df = pd.DataFrame(data=X_pca, columns=['Principal Component 1', 'Principal Component 2'])\n",
    "\n",
    "# Display the PCA result\n",
    "print(pca_df)"
   ]
  },
  {
   "cell_type": "code",
   "execution_count": 16,
   "id": "8d1d48f3-6c21-4090-a003-bfb931e92051",
   "metadata": {},
   "outputs": [
    {
     "data": {
      "text/plain": [
       "array([5.08162563, 3.98992438])"
      ]
     },
     "execution_count": 16,
     "metadata": {},
     "output_type": "execute_result"
    }
   ],
   "source": [
    "pca.explained_variance_"
   ]
  },
  {
   "cell_type": "code",
   "execution_count": 12,
   "id": "695ae38d-4706-4337-90da-cd37242454c5",
   "metadata": {},
   "outputs": [],
   "source": [
    "pca = PCA()\n",
    "X_pca = pca.fit_transform(X_scaled)"
   ]
  },
  {
   "cell_type": "code",
   "execution_count": 14,
   "id": "dd7f0466-7c62-4858-8e51-2d12f4cd44a0",
   "metadata": {},
   "outputs": [
    {
     "name": "stdout",
     "output_type": "stream",
     "text": [
      "[[-2.49078324 -1.01163331 -1.02604819 ... -0.32315045  0.24399604\n",
      "   0.07080429]\n",
      " [-0.69005721 -0.4741035  -0.52162306 ...  0.04007203  0.45938342\n",
      "  -0.17028573]\n",
      " [-0.90268654 -0.69873585  0.2682355  ...  0.03134931  0.05500043\n",
      "   0.16008482]\n",
      " ...\n",
      " [ 2.61834351 -0.25491849  1.35000804 ... -0.70287503  0.25933573\n",
      "   0.11101472]\n",
      " [ 6.7180703  -3.37712392 -0.93003665 ...  0.14725529  0.27072077\n",
      "   0.1432133 ]\n",
      " [ 4.13793335 -1.11556517  2.28272977 ...  0.23434657  0.22632781\n",
      "   0.21660812]]\n"
     ]
    }
   ],
   "source": [
    "print(X_pca)"
   ]
  },
  {
   "cell_type": "code",
   "execution_count": 21,
   "id": "1055828c-c740-4741-ad40-0167ac1a68d7",
   "metadata": {},
   "outputs": [
    {
     "name": "stdout",
     "output_type": "stream",
     "text": [
      "[0.02152848 0.01690345] [0.02152848 0.03843193]\n"
     ]
    }
   ],
   "source": [
    "# Calculate the explained variance ratio\n",
    "explained_variance = pca.explained_variance_ratio_\n",
    "\n",
    "# Cumulative explained variance\n",
    "cumulative_variance = np.cumsum(explained_variance)\n",
    "\n",
    "print(explained_variance, cumulative_variance)"
   ]
  },
  {
   "cell_type": "code",
   "execution_count": 23,
   "id": "6cdf10b2-788c-46f1-851a-b7018073dbf7",
   "metadata": {},
   "outputs": [
    {
     "name": "stdout",
     "output_type": "stream",
     "text": [
      "Percentage of variability explained by each component:\n",
      "Component 1: 2.15%\n",
      "Component 2: 1.69%\n",
      "\n",
      "Number of components required to explain 95% variability: 1\n"
     ]
    },
    {
     "data": {
      "image/png": "[encoded data removed]",
      "text/plain": [
       "<Figure size 1000x600 with 1 Axes>"
      ]
     },
     "metadata": {},
     "output_type": "display_data"
    }
   ],
   "source": [
    "# Determine the number of components needed to explain 95% of the variance\n",
    "n_components_95 = np.argmax(cumulative_variance >= 0.95) + 1  # Add 1 because np.argmax returns 0-based index\n",
    "\n",
    "# Print the percentage of variability explained by each component\n",
    "print(\"Percentage of variability explained by each component:\")\n",
    "for i, var in enumerate(explained_variance):\n",
    "    print(f\"Component {i + 1}: {var * 100:.2f}%\")\n",
    "\n",
    "# Print the number of components needed to explain 95% variability\n",
    "print(f\"\\nNumber of components required to explain 95% variability: {n_components_95}\")\n",
    "\n",
    "# Optional: Plot the explained variance\n",
    "plt.figure(figsize=(10, 6))\n",
    "plt.plot(cumulative_variance, marker='o', linestyle='--')\n",
    "plt.axhline(y=0.95, color='r', linestyle='-')\n",
    "plt.title('Cumulative Explained Variance by PCA Components')\n",
    "plt.xlabel('Number of Components')\n",
    "plt.ylabel('Cumulative Explained Variance')\n",
    "plt.grid()\n",
    "plt.show()"
   ]
  },
  {
   "cell_type": "code",
   "execution_count": null,
   "id": "64a853a9-5589-4467-b48e-07f8ac65a0d2",
   "metadata": {},
   "outputs": [],
   "source": []
  }
 ],
 "metadata": {
  "kernelspec": {
   "display_name": "Python 3 (ipykernel)",
   "language": "python",
   "name": "python3"
  },
  "language_info": {
   "codemirror_mode": {
    "name": "ipython",
    "version": 3
   },
   "file_extension": ".py",
   "mimetype": "text/x-python",
   "name": "python",
   "nbconvert_exporter": "python",
   "pygments_lexer": "ipython3",
   "version": "3.9.20"
  }
 },
 "nbformat": 4,
 "nbformat_minor": 5
}
